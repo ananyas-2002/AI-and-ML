{
  "cells": [
    {
      "cell_type": "markdown",
      "metadata": {
        "id": "view-in-github",
        "colab_type": "text"
      },
      "source": [
        "<a href=\"https://colab.research.google.com/github/ananyas-2002/AI-and-ML/blob/main/Decision_Tree_without_built_in.ipynb\" target=\"_parent\"><img src=\"https://colab.research.google.com/assets/colab-badge.svg\" alt=\"Open In Colab\"/></a>"
      ]
    },
    {
      "cell_type": "code",
      "execution_count": 1,
      "id": "45dde0b3-2259-480d-8e6e-75a5b85960c3",
      "metadata": {
        "id": "45dde0b3-2259-480d-8e6e-75a5b85960c3"
      },
      "outputs": [],
      "source": [
        "import numpy as np\n",
        "import pandas as pd\n",
        "from sklearn.datasets import load_iris\n",
        "from sklearn.model_selection import train_test_split\n",
        "from sklearn.metrics import accuracy_score"
      ]
    },
    {
      "cell_type": "code",
      "execution_count": 2,
      "id": "950dd656-836b-4717-b4bd-69f2388e5ce6",
      "metadata": {
        "id": "950dd656-836b-4717-b4bd-69f2388e5ce6"
      },
      "outputs": [],
      "source": [
        "# Load the Iris dataset\n",
        "iris = load_iris()\n",
        "X = iris.data  # Features\n",
        "y = iris.target  # Labels (Setosa, Versicolor, Virginica)"
      ]
    },
    {
      "cell_type": "code",
      "execution_count": 3,
      "id": "cc4a593c-6679-42f5-ad87-bfc70412ad71",
      "metadata": {
        "id": "cc4a593c-6679-42f5-ad87-bfc70412ad71"
      },
      "outputs": [],
      "source": [
        "# Split into training and testing sets (80% train, 20% test)\n",
        "X_train, X_test, y_train, y_test = train_test_split(X, y, test_size=0.25, random_state=42)"
      ]
    },
    {
      "cell_type": "code",
      "execution_count": 4,
      "id": "51d5538e-fb3f-46a2-ba37-bf82e19608c5",
      "metadata": {
        "id": "51d5538e-fb3f-46a2-ba37-bf82e19608c5"
      },
      "outputs": [],
      "source": [
        "# Split into training and testing sets (80% train, 20% test)\n",
        "X_train, X_test, y_train, y_test = train_test_split(X, y, test_size=0.25, random_state=42)"
      ]
    },
    {
      "cell_type": "code",
      "execution_count": 5,
      "id": "4bda0306-6265-4635-8a5e-9ea55520d5ba",
      "metadata": {
        "id": "4bda0306-6265-4635-8a5e-9ea55520d5ba"
      },
      "outputs": [],
      "source": [
        "def entropy(y):\n",
        "    unique_classes, counts = np.unique(y, return_counts=True)\n",
        "    probabilities = counts / len(y)\n",
        "    return -np.sum(probabilities * np.log2(probabilities))"
      ]
    },
    {
      "cell_type": "code",
      "execution_count": 6,
      "id": "ab2f22ee-b0ce-4bf5-9d26-219e8097d488",
      "metadata": {
        "id": "ab2f22ee-b0ce-4bf5-9d26-219e8097d488"
      },
      "outputs": [],
      "source": [
        "def information_gain(X, y, feature_index, threshold):\n",
        "    parent_entropy = entropy(y)\n",
        "\n",
        "    left_indices = X[:, feature_index] <= threshold\n",
        "    right_indices = X[:, feature_index] > threshold\n",
        "\n",
        "    n, n_left, n_right = len(y), np.sum(left_indices), np.sum(right_indices)\n",
        "\n",
        "    if n_left == 0 or n_right == 0:  # Avoid splitting into empty groups\n",
        "        return 0\n",
        "\n",
        "    left_entropy = entropy(y[left_indices])\n",
        "    right_entropy = entropy(y[right_indices])\n",
        "\n",
        "    weighted_entropy = (n_left / n) * left_entropy + (n_right / n) * right_entropy\n",
        "\n",
        "    return parent_entropy - weighted_entropy\n"
      ]
    },
    {
      "cell_type": "code",
      "execution_count": 7,
      "id": "c25f3d68-e683-4718-93f4-be017f80c76f",
      "metadata": {
        "id": "c25f3d68-e683-4718-93f4-be017f80c76f"
      },
      "outputs": [],
      "source": [
        "def best_split(X, y):\n",
        "    best_gain = 0\n",
        "    best_feature = None\n",
        "    best_threshold = None\n",
        "\n",
        "    for feature_index in range(X.shape[1]):  # Iterate through features\n",
        "        thresholds = np.unique(X[:, feature_index])  # Unique values in feature\n",
        "\n",
        "        for threshold in thresholds:\n",
        "            gain = information_gain(X, y, feature_index, threshold)\n",
        "\n",
        "            if gain > best_gain:\n",
        "                best_gain = gain\n",
        "                best_feature = feature_index\n",
        "                best_threshold = threshold\n",
        "\n",
        "    return best_feature, best_threshold\n"
      ]
    },
    {
      "cell_type": "code",
      "execution_count": 8,
      "id": "caaad074-4a89-4623-96e5-c3124adcffd7",
      "metadata": {
        "id": "caaad074-4a89-4623-96e5-c3124adcffd7"
      },
      "outputs": [],
      "source": [
        "class Node:\n",
        "    def __init__(self, feature=None, threshold=None, left=None, right=None, value=None):\n",
        "        self.feature = feature\n",
        "        self.threshold = threshold\n",
        "        self.left = left\n",
        "        self.right = right\n",
        "        self.value = value\n",
        "\n",
        "def build_tree(X, y, depth=0, max_depth=5):\n",
        "    if len(np.unique(y)) == 1:  # If all samples belong to one class\n",
        "        return Node(value=y[0])\n",
        "\n",
        "    if depth >= max_depth:\n",
        "        unique_classes, counts = np.unique(y, return_counts=True)\n",
        "        return Node(value=unique_classes[np.argmax(counts)])\n",
        "\n",
        "    feature, threshold = best_split(X, y)\n",
        "\n",
        "    if feature is None:\n",
        "        unique_classes, counts = np.unique(y, return_counts=True)\n",
        "        return Node(value=unique_classes[np.argmax(counts)])\n",
        "\n",
        "    left_indices = X[:, feature] <= threshold\n",
        "    right_indices = X[:, feature] > threshold\n",
        "\n",
        "    left_subtree = build_tree(X[left_indices], y[left_indices], depth + 1, max_depth)\n",
        "    right_subtree = build_tree(X[right_indices], y[right_indices], depth + 1, max_depth)\n",
        "\n",
        "    return Node(feature, threshold, left_subtree, right_subtree)\n"
      ]
    },
    {
      "cell_type": "code",
      "execution_count": 9,
      "id": "2914c980-a07c-42a1-a85d-d968f6bdcd66",
      "metadata": {
        "id": "2914c980-a07c-42a1-a85d-d968f6bdcd66"
      },
      "outputs": [],
      "source": [
        "def predict_one(node, x):\n",
        "    if node.value is not None:\n",
        "        return node.value  # Return class label for leaf node\n",
        "\n",
        "    if x[node.feature] <= node.threshold:\n",
        "        return predict_one(node.left, x)\n",
        "    else:\n",
        "        return predict_one(node.right, x)\n",
        "\n",
        "def predict(tree, X):\n",
        "    return np.array([predict_one(tree, x) for x in X])\n"
      ]
    },
    {
      "cell_type": "code",
      "execution_count": 10,
      "id": "bf53bb7c-c4e5-43a9-b569-19828faecd6e",
      "metadata": {
        "colab": {
          "base_uri": "https://localhost:8080/"
        },
        "id": "bf53bb7c-c4e5-43a9-b569-19828faecd6e",
        "outputId": "ab9b201b-ed79-4500-902f-f59713019287"
      },
      "outputs": [
        {
          "output_type": "stream",
          "name": "stdout",
          "text": [
            "Decision Tree Accuracy: 0.9473684210526315\n"
          ]
        }
      ],
      "source": [
        "# Train the Decision Tree\n",
        "tree = build_tree(X_train, y_train)\n",
        "\n",
        "# Make Predictions\n",
        "y_pred = predict(tree, X_test)\n",
        "\n",
        "# Evaluate Model Performance\n",
        "accuracy = accuracy_score(y_test, y_pred)\n",
        "print(\"Decision Tree Accuracy:\", accuracy)\n"
      ]
    },
    {
      "cell_type": "code",
      "execution_count": 11,
      "id": "89e85240-26be-4f16-b20a-da66481b5997",
      "metadata": {
        "colab": {
          "base_uri": "https://localhost:8080/"
        },
        "id": "89e85240-26be-4f16-b20a-da66481b5997",
        "outputId": "7764952a-4de9-4de9-de25-b45e3c8503f8"
      },
      "outputs": [
        {
          "output_type": "stream",
          "name": "stdout",
          "text": [
            "Feature 2 <= 1.9?\n",
            "Left:\n",
            "  Leaf: Class 0\n",
            "Right:\n",
            "  Feature 2 <= 4.7?\n",
            "  Left:\n",
            "    Feature 3 <= 1.6?\n",
            "    Left:\n",
            "      Leaf: Class 1\n",
            "    Right:\n",
            "      Leaf: Class 2\n",
            "  Right:\n",
            "    Feature 2 <= 5.1?\n",
            "    Left:\n",
            "      Feature 3 <= 1.7?\n",
            "      Left:\n",
            "        Feature 1 <= 2.2?\n",
            "        Left:\n",
            "          Leaf: Class 2\n",
            "        Right:\n",
            "          Leaf: Class 1\n",
            "      Right:\n",
            "        Feature 1 <= 3.0?\n",
            "        Left:\n",
            "          Leaf: Class 2\n",
            "        Right:\n",
            "          Leaf: Class 1\n",
            "    Right:\n",
            "      Leaf: Class 2\n"
          ]
        }
      ],
      "source": [
        "def print_tree(node, depth=0):\n",
        "    if node.value is not None:  # Leaf node\n",
        "        print(\"  \" * depth + f\"Leaf: Class {node.value}\")\n",
        "        return\n",
        "\n",
        "    # Print feature and threshold\n",
        "    print(\"  \" * depth + f\"Feature {node.feature} <= {node.threshold}?\")\n",
        "\n",
        "    # Print left and right subtree\n",
        "    print(\"  \" * depth + \"Left:\")\n",
        "    print_tree(node.left, depth + 1)\n",
        "\n",
        "    print(\"  \" * depth + \"Right:\")\n",
        "    print_tree(node.right, depth + 1)\n",
        "\n",
        "# Print the trained decision tree\n",
        "print_tree(tree)\n"
      ]
    },
    {
      "cell_type": "code",
      "execution_count": null,
      "id": "0d8b44b8-7077-44dd-9bd9-1fa52cc896e0",
      "metadata": {
        "id": "0d8b44b8-7077-44dd-9bd9-1fa52cc896e0"
      },
      "outputs": [],
      "source": []
    }
  ],
  "metadata": {
    "kernelspec": {
      "display_name": "Python [conda env:base] *",
      "language": "python",
      "name": "conda-base-py"
    },
    "language_info": {
      "codemirror_mode": {
        "name": "ipython",
        "version": 3
      },
      "file_extension": ".py",
      "mimetype": "text/x-python",
      "name": "python",
      "nbconvert_exporter": "python",
      "pygments_lexer": "ipython3",
      "version": "3.12.7"
    },
    "colab": {
      "provenance": [],
      "include_colab_link": true
    }
  },
  "nbformat": 4,
  "nbformat_minor": 5
}