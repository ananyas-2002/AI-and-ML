{
 "cells": [
  {
   "cell_type": "code",
   "execution_count": 21,
   "id": "c4e493eb-cc60-4f1c-ac76-e64da62b99b1",
   "metadata": {},
   "outputs": [
    {
     "name": "stdout",
     "output_type": "stream",
     "text": [
      "matrix:\n",
      " [[1 3 4]\n",
      " [5 7 8]\n",
      " [2 6 9]]\n"
     ]
    }
   ],
   "source": [
    "import numpy as np\n",
    "\n",
    "matrix1=np.array([[1,3,4],[5,7,8],[2,6,9]])\n",
    "print(\"matrix:\\n\",matrix1)\n"
   ]
  },
  {
   "cell_type": "code",
   "execution_count": 22,
   "id": "5379f332-73c7-468f-b6e2-4d5f7c0d21d1",
   "metadata": {},
   "outputs": [
    {
     "name": "stdout",
     "output_type": "stream",
     "text": [
      "Mean:: 5.0\n",
      "Median:: 5.0\n",
      "Mode:: ModeResult(mode=1, count=1)\n"
     ]
    }
   ],
   "source": [
    "from scipy import stats\n",
    "mean=np.mean(matrix1)\n",
    "median=np.median(matrix1)\n",
    "mode=stats.mode(matrix1,axis=None)\n",
    "\n",
    "print(\"Mean::\",mean)\n",
    "print(\"Median::\",median)\n",
    "print(\"Mode::\",mode)"
   ]
  },
  {
   "cell_type": "code",
   "execution_count": 23,
   "id": "a8544805-ba45-4485-996e-3730fabe0d11",
   "metadata": {},
   "outputs": [
    {
     "name": "stdout",
     "output_type": "stream",
     "text": [
      "Transpose:: [[1 5 2]\n",
      " [3 7 6]\n",
      " [4 8 9]]\n"
     ]
    }
   ],
   "source": [
    "transpose=np.transpose(matrix1)\n",
    "print(\"Transpose::\",transpose)"
   ]
  },
  {
   "cell_type": "code",
   "execution_count": 26,
   "id": "501d3c52-5e78-4633-afe1-00de23c46690",
   "metadata": {},
   "outputs": [
    {
     "name": "stdout",
     "output_type": "stream",
     "text": [
      "Determinant:: -7.999999999999991\n"
     ]
    }
   ],
   "source": [
    "determinant=np.linalg.det(matrix1)\n",
    "print(\"Determinant::\",determinant)"
   ]
  },
  {
   "cell_type": "code",
   "execution_count": 24,
   "id": "6500b6cd-6686-48b8-a795-4ccc7212703e",
   "metadata": {},
   "outputs": [
    {
     "name": "stdout",
     "output_type": "stream",
     "text": [
      "Inverse:: [[-1.87500000e+00  3.75000000e-01  5.00000000e-01]\n",
      " [ 3.62500000e+00 -1.25000000e-01 -1.50000000e+00]\n",
      " [-2.00000000e+00  5.55111512e-17  1.00000000e+00]]\n"
     ]
    }
   ],
   "source": [
    "inverse=np.linalg.inv(matrix1)\n",
    "print(\"Inverse::\",inverse)"
   ]
  },
  {
   "cell_type": "code",
   "execution_count": 28,
   "id": "b84c6006-111f-42ca-89b5-a6f85ad81b29",
   "metadata": {},
   "outputs": [
    {
     "name": "stdout",
     "output_type": "stream",
     "text": [
      "Matrix:: [[1 3 4]\n",
      " [5 7 8]\n",
      " [2 6 9]]\n",
      "Inverse:: [[-1.87500000e+00  3.75000000e-01  5.00000000e-01]\n",
      " [ 3.62500000e+00 -1.25000000e-01 -1.50000000e+00]\n",
      " [-2.00000000e+00  5.55111512e-17  1.00000000e+00]]\n"
     ]
    }
   ],
   "source": [
    "if determinant==0:\n",
    "    print(\"matrix is singular there is no inverse:\")\n",
    "else:\n",
    "    inverse=np.linalg.inv(matrix1)\n",
    "    print(\"Matrix::\",matrix1)\n",
    "    print(\"Inverse::\",inverse)"
   ]
  },
  {
   "cell_type": "code",
   "execution_count": 33,
   "id": "1089c390-b745-4991-8920-b0f73c779c9f",
   "metadata": {},
   "outputs": [
    {
     "name": "stdout",
     "output_type": "stream",
     "text": [
      "Matrix1::\n",
      " [[1 2]\n",
      " [4 5]]\n",
      "Matrix2::\n",
      " [[7 8]\n",
      " [6 9]]\n",
      "product::\n",
      " [[19 26]\n",
      " [58 77]]\n"
     ]
    }
   ],
   "source": [
    "m1=np.array([[1,2],[4,5]])\n",
    "m2=np.array([[7,8],[6,9]])\n",
    "print(\"Matrix1::\\n\",m1)\n",
    "print(\"Matrix2::\\n\",m2)\n",
    "mul=np.dot(m1,m2)\n",
    "print(\"product::\\n\",mul)"
   ]
  },
  {
   "cell_type": "code",
   "execution_count": null,
   "id": "593c815b-48f5-4ef7-85d2-4837be5e87cd",
   "metadata": {},
   "outputs": [],
   "source": []
  }
 ],
 "metadata": {
  "kernelspec": {
   "display_name": "Python 3 (ipykernel)",
   "language": "python",
   "name": "python3"
  },
  "language_info": {
   "codemirror_mode": {
    "name": "ipython",
    "version": 3
   },
   "file_extension": ".py",
   "mimetype": "text/x-python",
   "name": "python",
   "nbconvert_exporter": "python",
   "pygments_lexer": "ipython3",
   "version": "3.12.4"
  }
 },
 "nbformat": 4,
 "nbformat_minor": 5
}
