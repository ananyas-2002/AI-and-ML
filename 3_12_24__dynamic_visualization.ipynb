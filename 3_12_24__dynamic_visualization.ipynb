{
 "cells": [
  {
   "cell_type": "code",
   "execution_count": 1,
   "id": "0d47822a-55eb-4e21-bd57-bdef8d5e4cfa",
   "metadata": {},
   "outputs": [
    {
     "ename": "AttributeError",
     "evalue": "'list' object has no attribute 'set_data'",
     "output_type": "error",
     "traceback": [
      "\u001b[1;31m---------------------------------------------------------------------------\u001b[0m",
      "\u001b[1;31mAttributeError\u001b[0m                            Traceback (most recent call last)",
      "Cell \u001b[1;32mIn[1], line 27\u001b[0m\n\u001b[0;32m     25\u001b[0m x_values \u001b[38;5;241m=\u001b[39m [x \u001b[38;5;28;01mfor\u001b[39;00m x, y \u001b[38;5;129;01min\u001b[39;00m data_points] \n\u001b[0;32m     26\u001b[0m y_values \u001b[38;5;241m=\u001b[39m [y \u001b[38;5;28;01mfor\u001b[39;00m x, y \u001b[38;5;129;01min\u001b[39;00m data_points] \n\u001b[1;32m---> 27\u001b[0m line\u001b[38;5;241m.\u001b[39mset_data(x_values, y_values) \n\u001b[0;32m     28\u001b[0m \u001b[38;5;66;03m# pause the plot for 0.01s before next point is shown \u001b[39;00m\n\u001b[0;32m     29\u001b[0m plt\u001b[38;5;241m.\u001b[39mpause(\u001b[38;5;241m0.01\u001b[39m) \n",
      "\u001b[1;31mAttributeError\u001b[0m: 'list' object has no attribute 'set_data'"
     ]
    },
    {
     "data": {
      "image/png": "[encoded data removed]",
      "text/plain": [
       "<Figure size 640x480 with 1 Axes>"
      ]
     },
     "metadata": {},
     "output_type": "display_data"
    }
   ],
   "source": [
    "import matplotlib.pyplot as plt \n",
    "from collections import deque \n",
    "import random \n",
    "\n",
    "# Create a fixed-length deque of size 50 to store the data points \n",
    "data_points = deque(maxlen=50) \n",
    "\n",
    "# Create an empty plot \n",
    "fig, ax = plt.subplots() \n",
    "line = ax.plot([]) \n",
    "\n",
    "# Set the x-axis and y-axis limits to 100 \n",
    "ax.set_xlim(0, 100) \n",
    "ax.set_ylim(0, 100) \n",
    "\n",
    "# Iterate through 50 data points and update the plot \n",
    "for i in range(50): \n",
    "\t# Generate and add data points to the deque \n",
    "\tnew_x = i \n",
    "\t# generate a random number between 0 to 100 for y axis \n",
    "\tnew_y = random.randint(0, 100) \n",
    "\tdata_points.append((new_x, new_y)) \n",
    "\n",
    "\t# Update the plot with the new data points \n",
    "\tx_values = [x for x, y in data_points] \n",
    "\ty_values = [y for x, y in data_points] \n",
    "\tline.set_data(x_values, y_values) \n",
    "\t# pause the plot for 0.01s before next point is shown \n",
    "\tplt.pause(0.01) \n",
    "\n",
    "# Show the plot \n",
    "plt.show() \n"
   ]
  },
  {
   "cell_type": "code",
   "execution_count": null,
   "id": "d6fe084a-7051-4cb4-a60f-e71aa974592a",
   "metadata": {},
   "outputs": [],
   "source": []
  }
 ],
 "metadata": {
  "kernelspec": {
   "display_name": "Python 3 (ipykernel)",
   "language": "python",
   "name": "python3"
  },
  "language_info": {
   "codemirror_mode": {
    "name": "ipython",
    "version": 3
   },
   "file_extension": ".py",
   "mimetype": "text/x-python",
   "name": "python",
   "nbconvert_exporter": "python",
   "pygments_lexer": "ipython3",
   "version": "3.12.4"
  }
 },
 "nbformat": 4,
 "nbformat_minor": 5
}
