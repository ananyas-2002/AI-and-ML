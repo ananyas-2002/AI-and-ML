{
 "cells": [
  {
   "cell_type": "code",
   "execution_count": 13,
   "id": "3b108983-9239-4a8c-a927-1e4ca984e5a1",
   "metadata": {},
   "outputs": [],
   "source": [
    "import numpy as np\n",
    "import matplotlib.pyplot as plt \n",
    "import pandas as pd"
   ]
  },
  {
   "cell_type": "code",
   "execution_count": 14,
   "id": "715f0aa6-0e0d-4f97-9de6-ef77753e13c9",
   "metadata": {},
   "outputs": [
    {
     "data": {
      "text/html": [
       "<div>\n",
       "<style scoped>\n",
       "    .dataframe tbody tr th:only-of-type {\n",
       "        vertical-align: middle;\n",
       "    }\n",
       "\n",
       "    .dataframe tbody tr th {\n",
       "        vertical-align: top;\n",
       "    }\n",
       "\n",
       "    .dataframe thead th {\n",
       "        text-align: right;\n",
       "    }\n",
       "</style>\n",
       "<table border=\"1\" class=\"dataframe\">\n",
       "  <thead>\n",
       "    <tr style=\"text-align: right;\">\n",
       "      <th></th>\n",
       "      <th>6.1101</th>\n",
       "      <th>17.592</th>\n",
       "    </tr>\n",
       "  </thead>\n",
       "  <tbody>\n",
       "    <tr>\n",
       "      <th>0</th>\n",
       "      <td>5.5277</td>\n",
       "      <td>9.13020</td>\n",
       "    </tr>\n",
       "    <tr>\n",
       "      <th>1</th>\n",
       "      <td>8.5186</td>\n",
       "      <td>13.66200</td>\n",
       "    </tr>\n",
       "    <tr>\n",
       "      <th>2</th>\n",
       "      <td>7.0032</td>\n",
       "      <td>11.85400</td>\n",
       "    </tr>\n",
       "    <tr>\n",
       "      <th>3</th>\n",
       "      <td>5.8598</td>\n",
       "      <td>6.82330</td>\n",
       "    </tr>\n",
       "    <tr>\n",
       "      <th>4</th>\n",
       "      <td>8.3829</td>\n",
       "      <td>11.88600</td>\n",
       "    </tr>\n",
       "    <tr>\n",
       "      <th>...</th>\n",
       "      <td>...</td>\n",
       "      <td>...</td>\n",
       "    </tr>\n",
       "    <tr>\n",
       "      <th>91</th>\n",
       "      <td>5.8707</td>\n",
       "      <td>7.20290</td>\n",
       "    </tr>\n",
       "    <tr>\n",
       "      <th>92</th>\n",
       "      <td>5.3054</td>\n",
       "      <td>1.98690</td>\n",
       "    </tr>\n",
       "    <tr>\n",
       "      <th>93</th>\n",
       "      <td>8.2934</td>\n",
       "      <td>0.14454</td>\n",
       "    </tr>\n",
       "    <tr>\n",
       "      <th>94</th>\n",
       "      <td>13.3940</td>\n",
       "      <td>9.05510</td>\n",
       "    </tr>\n",
       "    <tr>\n",
       "      <th>95</th>\n",
       "      <td>5.4369</td>\n",
       "      <td>0.61705</td>\n",
       "    </tr>\n",
       "  </tbody>\n",
       "</table>\n",
       "<p>96 rows × 2 columns</p>\n",
       "</div>"
      ],
      "text/plain": [
       "     6.1101    17.592\n",
       "0    5.5277   9.13020\n",
       "1    8.5186  13.66200\n",
       "2    7.0032  11.85400\n",
       "3    5.8598   6.82330\n",
       "4    8.3829  11.88600\n",
       "..      ...       ...\n",
       "91   5.8707   7.20290\n",
       "92   5.3054   1.98690\n",
       "93   8.2934   0.14454\n",
       "94  13.3940   9.05510\n",
       "95   5.4369   0.61705\n",
       "\n",
       "[96 rows x 2 columns]"
      ]
     },
     "execution_count": 14,
     "metadata": {},
     "output_type": "execute_result"
    }
   ],
   "source": [
    "data=pd.read_csv('exdata.txt')\n",
    "data"
   ]
  },
  {
   "cell_type": "code",
   "execution_count": 15,
   "id": "5a303429-3b14-49f3-b695-d6bb594b2b94",
   "metadata": {},
   "outputs": [
    {
     "name": "stdout",
     "output_type": "stream",
     "text": [
      "Formatted Array:\n",
      "     6.1101    17.592\n",
      "0    5.5277   9.13020\n",
      "1    8.5186  13.66200\n",
      "2    7.0032  11.85400\n",
      "3    5.8598   6.82330\n",
      "4    8.3829  11.88600\n",
      "..      ...       ...\n",
      "91   5.8707   7.20290\n",
      "92   5.3054   1.98690\n",
      "93   8.2934   0.14454\n",
      "94  13.3940   9.05510\n",
      "95   5.4369   0.61705\n",
      "\n",
      "[96 rows x 2 columns]\n"
     ]
    }
   ],
   "source": [
    "np.set_printoptions(precision=4, suppress=True)\n",
    "print(\"Formatted Array:\")\n",
    "print(data)"
   ]
  },
  {
   "cell_type": "code",
   "execution_count": 16,
   "id": "744bcd42-8ba0-4b00-b5b9-2b327477cc23",
   "metadata": {},
   "outputs": [
    {
     "name": "stdout",
     "output_type": "stream",
     "text": [
      "6.1101    8.181151\n",
      "17.592    5.716709\n",
      "dtype: float64\n",
      "      6.1101    17.592\n",
      "0  -2.653451  3.413491\n",
      "1   0.337449  7.945291\n",
      "2  -1.177951  6.137291\n",
      "3  -2.321351  1.106591\n",
      "4   0.201749  6.169291\n",
      "..       ...       ...\n",
      "91 -2.310451  1.486191\n",
      "92 -2.875751 -3.729809\n",
      "93  0.112249 -5.572169\n",
      "94  5.212849  3.338391\n",
      "95 -2.744251 -5.099659\n",
      "\n",
      "[96 rows x 2 columns]\n"
     ]
    }
   ],
   "source": [
    "# Step 2: Standardize the data\n",
    "mean = np.mean(data, axis=0)\n",
    "std_dev = np.std(data, axis=0)\n",
    "standardized_data = (data -mean)\n",
    "print (mean)\n",
    "print(standardized_data)"
   ]
  },
  {
   "cell_type": "code",
   "execution_count": 17,
   "id": "a4199a3f-94b3-4ff5-88f5-06fa37bc8314",
   "metadata": {},
   "outputs": [
    {
     "name": "stdout",
     "output_type": "stream",
     "text": [
      "4 (2, 2)\n",
      "[[15.089  18.3112]\n",
      " [18.3112 29.2135]]\n"
     ]
    }
   ],
   "source": [
    "# Step 3: Compute the covariance matrix\n",
    "covariance_matrix = np.cov(standardized_data,rowvar=False)\n",
    "size_cc = covariance_matrix.size\n",
    "shape_cc =covariance_matrix.shape\n",
    "print(size_cc, shape_cc)\n",
    "print(covariance_matrix)"
   ]
  },
  {
   "cell_type": "code",
   "execution_count": 18,
   "id": "ddbc8169-e367-411c-9c18-4bae8a45921c",
   "metadata": {},
   "outputs": [
    {
     "name": "stdout",
     "output_type": "stream",
     "text": [
      "[ 2.5254 41.7771]\n",
      "[[-0.8246  0.5658]\n",
      " [ 0.5658  0.8246]]\n"
     ]
    }
   ],
   "source": [
    "# Step 4: Compute the eigenvalues and eigenvectors of the covariance matrix\n",
    "eigenvalues, eigenvectors = np.linalg.eigh(covariance_matrix)\n",
    "print(eigenvalues)\n",
    "print(eigenvectors)"
   ]
  },
  {
   "cell_type": "code",
   "execution_count": 19,
   "id": "1af5c80a-09be-4a15-8041-c31b768a9cb0",
   "metadata": {},
   "outputs": [
    {
     "name": "stdout",
     "output_type": "stream",
     "text": [
      "[41.7771  2.5254]\n",
      "[[ 0.5658 -0.8246]\n",
      " [ 0.8246  0.5658]]\n"
     ]
    }
   ],
   "source": [
    "# Step 5: Sort eigenvalues and corresponding eigenvectors in descending order\n",
    "sorted_indices = np.argsort(eigenvalues)[::-1]\n",
    "eigenvalues = eigenvalues[sorted_indices]\n",
    "eigenvectors = eigenvectors[:,sorted_indices]\n",
    "print(eigenvalues)\n",
    "print(eigenvectors)"
   ]
  },
  {
   "cell_type": "code",
   "execution_count": 20,
   "id": "7bc763d5-bbc9-483e-ad63-b9076b9a3e82",
   "metadata": {},
   "outputs": [],
   "source": [
    "# Step 6: Choose the number of components (or a threshold for explained variance)\n",
    "n_components = 1 # Choose the number of principal components\n",
    "\n",
    "# Step 7: Select the top 'n_components' eigenvectors\n",
    "selected_eigenvectors = eigenvectors[:, :n_components]\n",
    "# Step 8: Project the data onto the selected eigenvectors to obtain the principalcomponents\n",
    "final_result = np.dot(standardized_data, selected_eigenvectors)"
   ]
  },
  {
   "cell_type": "code",
   "execution_count": 21,
   "id": "75c39e7a-9d15-461c-9468-221f045231fa",
   "metadata": {},
   "outputs": [
    {
     "name": "stdout",
     "output_type": "stream",
     "text": [
      "Final Result afterPCA:\n",
      "[[ 1.3135]\n",
      " [ 6.7424]\n",
      " [ 4.3942]\n",
      " [-0.4008]\n",
      " [ 5.2012]\n",
      " [-1.5271]\n",
      " [ 5.4056]\n",
      " [-0.2317]\n",
      " [-3.3356]\n",
      " [-3.4298]\n",
      " [11.456 ]\n",
      " [-3.4967]\n",
      " [ 1.3729]\n",
      " [-5.5606]\n",
      " [-3.4023]\n",
      " [-1.3669]\n",
      " [-5.9776]\n",
      " [-2.6936]\n",
      " [-0.8982]\n",
      " [-3.2529]\n",
      " [20.074 ]\n",
      " [-2.7212]\n",
      " [-1.4859]\n",
      " [-3.6523]\n",
      " [20.0425]\n",
      " [ 9.0477]\n",
      " [ 2.6671]\n",
      " [10.2266]\n",
      " [23.1301]\n",
      " [-7.3768]\n",
      " [-0.6697]\n",
      " [ 5.8952]\n",
      " [-4.484 ]\n",
      " [ 0.698 ]\n",
      " [-1.0921]\n",
      " [-1.3678]\n",
      " [-3.373 ]\n",
      " [ 6.2619]\n",
      " [-1.2149]\n",
      " [-5.8245]\n",
      " [-2.2232]\n",
      " [ 1.7221]\n",
      " [-4.0634]\n",
      " [ 0.6354]\n",
      " [-4.4667]\n",
      " [-2.2408]\n",
      " [-4.5397]\n",
      " [ 3.8771]\n",
      " [-5.3679]\n",
      " [ 0.4897]\n",
      " [-4.8226]\n",
      " [-1.6061]\n",
      " [-0.9196]\n",
      " [-4.5859]\n",
      " [-6.9166]\n",
      " [-3.7514]\n",
      " [-2.3552]\n",
      " [-0.8078]\n",
      " [ 0.4704]\n",
      " [-0.0868]\n",
      " [-7.0246]\n",
      " [17.4801]\n",
      " [ 9.0313]\n",
      " [15.446 ]\n",
      " [-1.2304]\n",
      " [ 0.0871]\n",
      " [ 2.8601]\n",
      " [-5.3922]\n",
      " [19.4751]\n",
      " [ 1.9002]\n",
      " [-1.8732]\n",
      " [-4.8902]\n",
      " [-2.4993]\n",
      " [-8.7088]\n",
      " [-5.3932]\n",
      " [-1.8743]\n",
      " [-1.7917]\n",
      " [ 2.0382]\n",
      " [-4.756 ]\n",
      " [-5.7056]\n",
      " [-6.2386]\n",
      " [-5.187 ]\n",
      " [ 2.4045]\n",
      " [-1.2498]\n",
      " [-1.0263]\n",
      " [ 1.4569]\n",
      " [-5.1824]\n",
      " [-6.0938]\n",
      " [-4.1535]\n",
      " [-4.5918]\n",
      " [-1.4796]\n",
      " [-0.0817]\n",
      " [-4.7025]\n",
      " [-4.5312]\n",
      " [ 5.7019]\n",
      " [-5.7576]]\n"
     ]
    }
   ],
   "source": [
    "# Step 9: Print the final result\n",
    "print(\"Final Result afterPCA:\")\n",
    "print(final_result)"
   ]
  },
  {
   "cell_type": "code",
   "execution_count": null,
   "id": "06b34aec-67ba-4445-92be-27a2edebe2dd",
   "metadata": {},
   "outputs": [],
   "source": []
  }
 ],
 "metadata": {
  "kernelspec": {
   "display_name": "Python 3 (ipykernel)",
   "language": "python",
   "name": "python3"
  },
  "language_info": {
   "codemirror_mode": {
    "name": "ipython",
    "version": 3
   },
   "file_extension": ".py",
   "mimetype": "text/x-python",
   "name": "python",
   "nbconvert_exporter": "python",
   "pygments_lexer": "ipython3",
   "version": "3.12.4"
  }
 },
 "nbformat": 4,
 "nbformat_minor": 5
}
