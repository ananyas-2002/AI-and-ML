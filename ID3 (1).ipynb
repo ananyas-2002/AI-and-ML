{
 "cells": [
  {
   "cell_type": "code",
   "execution_count": 1,
   "metadata": {
    "id": "jkVzGxEKCGNe"
   },
   "outputs": [],
   "source": [
    "from collections import Counter\n",
    "import numpy as np"
   ]
  },
  {
   "cell_type": "code",
   "execution_count": 2,
   "metadata": {
    "id": "lwTHabB0COXB"
   },
   "outputs": [],
   "source": [
    "class Node:\n",
    "    def __init__(self, feature=None, value=None, results=None, true_branch=None, false_branch=None):\n",
    "        self.feature = feature  # Feature to split on\n",
    "        self.value = value      # Value of the feature to split on\n",
    "        self.results = results  # Stores class labels if node is a leaf node\n",
    "        self.true_branch = true_branch  # Branch for values that are True for the feature\n",
    "        self.false_branch = false_branch  # Branch for values that are False for the feature"
   ]
  },
  {
   "cell_type": "code",
   "execution_count": 3,
   "metadata": {
    "id": "AJWNwddyCWhN"
   },
   "outputs": [],
   "source": [
    "def entropy(data):\n",
    "    counts = np.bincount(data)\n",
    "    probabilities = counts / len(data)\n",
    "    entropy = -np.sum([p * np.log2(p) for p in probabilities if p > 0])\n",
    "    return entropy"
   ]
  },
  {
   "cell_type": "code",
   "execution_count": 4,
   "metadata": {
    "id": "Q1arZDIQCs4p"
   },
   "outputs": [],
   "source": [
    "def split_data(X, y, feature, value):\n",
    "    true_indices = np.where(X[:, feature] <= value)[0]\n",
    "    false_indices = np.where(X[:, feature] > value)[0]\n",
    "    true_X, true_y = X[true_indices], y[true_indices]\n",
    "    false_X, false_y = X[false_indices], y[false_indices]\n",
    "    return true_X, true_y, false_X, false_y"
   ]
  },
  {
   "cell_type": "code",
   "execution_count": 5,
   "metadata": {
    "id": "YXoa6rn9C3O_"
   },
   "outputs": [],
   "source": [
    "def build_tree(X, y):\n",
    "    if len(set(y)) == 1:\n",
    "        return Node(results=y[0])\n",
    "\n",
    "    best_gain = 0\n",
    "    best_criteria = None\n",
    "    best_sets = None\n",
    "    n_features = X.shape[1]\n",
    "\n",
    "    current_entropy = entropy(y)\n",
    "\n",
    "    for feature in range(n_features):\n",
    "        feature_values = set(X[:, feature])\n",
    "        for value in feature_values:\n",
    "            true_X, true_y, false_X, false_y = split_data(X, y, feature, value)\n",
    "            true_entropy = entropy(true_y)\n",
    "            false_entropy = entropy(false_y)\n",
    "            p = len(true_y) / len(y)\n",
    "            gain = current_entropy - p * true_entropy - (1 - p) * false_entropy\n",
    "\n",
    "            if gain > best_gain:\n",
    "                best_gain = gain\n",
    "                best_criteria = (feature, value)\n",
    "                best_sets = (true_X, true_y, false_X, false_y)\n",
    "\n",
    "    if best_gain > 0:\n",
    "        true_branch = build_tree(best_sets[0], best_sets[1])\n",
    "        false_branch = build_tree(best_sets[2], best_sets[3])\n",
    "        return Node(feature=best_criteria[0], value=best_criteria[1], true_branch=true_branch, false_branch=false_branch)\n",
    "\n",
    "    return Node(results=y[0])"
   ]
  },
  {
   "cell_type": "code",
   "execution_count": 6,
   "metadata": {
    "id": "uJ4XnVbnDDT2"
   },
   "outputs": [],
   "source": [
    "def predict(tree, sample):\n",
    "    if tree.results is not None:\n",
    "        return tree.results\n",
    "    else:\n",
    "        branch = tree.false_branch\n",
    "        if sample[tree.feature] <= tree.value:\n",
    "            branch = tree.true_branch\n",
    "        return predict(branch, sample)"
   ]
  },
  {
   "cell_type": "code",
   "execution_count": 7,
   "metadata": {
    "id": "17XhrSiLDH0e"
   },
   "outputs": [],
   "source": [
    "X = np.array([[1, 1], [1, 0], [0, 1], [0, 0]])\n",
    "y = np.array([1, 1, 0, 0])\n",
    "\n",
    "# Building the tree\n",
    "decision_tree = build_tree(X, y)"
   ]
  },
  {
   "cell_type": "code",
   "execution_count": 8,
   "metadata": {
    "colab": {
     "base_uri": "https://localhost:8080/"
    },
    "id": "6y-AnthEDOD4",
    "outputId": "7215accb-ddc8-4458-f88b-d5cf7fce260c"
   },
   "outputs": [
    {
     "name": "stdout",
     "output_type": "stream",
     "text": [
      "Prediction for sample [1 0]: 1\n"
     ]
    }
   ],
   "source": [
    "sample = np.array([1, 0])\n",
    "prediction = predict(decision_tree, sample)\n",
    "print(f\"Prediction for sample {sample}: {prediction}\")"
   ]
  }
 ],
 "metadata": {
  "colab": {
   "provenance": []
  },
  "kernelspec": {
   "display_name": "Python 3 (ipykernel)",
   "language": "python",
   "name": "python3"
  },
  "language_info": {
   "codemirror_mode": {
    "name": "ipython",
    "version": 3
   },
   "file_extension": ".py",
   "mimetype": "text/x-python",
   "name": "python",
   "nbconvert_exporter": "python",
   "pygments_lexer": "ipython3",
   "version": "3.12.4"
  }
 },
 "nbformat": 4,
 "nbformat_minor": 4
}
